{
 "cells": [
  {
   "cell_type": "code",
   "execution_count": 2,
   "metadata": {},
   "outputs": [],
   "source": [
    "import requests\n",
    "from bs4 import BeautifulSoup\n",
    "from tqdm import tqdm\n",
    "import jsonlines"
   ]
  },
  {
   "cell_type": "code",
   "execution_count": 28,
   "metadata": {},
   "outputs": [],
   "source": [
    "page_url = lambda i: f\"https://shop2banh.vn/nhot-xe-may/trang-{i}.html\""
   ]
  },
  {
   "cell_type": "code",
   "execution_count": 29,
   "metadata": {},
   "outputs": [],
   "source": [
    "def get_list_product_links(page_url):\n",
    "    try:\n",
    "        req = requests.get(page_url)\n",
    "        soup = BeautifulSoup(req.text, 'html.parser')\n",
    "        # get div by class `category-products products`\n",
    "        div = soup.find('div', class_='items-list-prod')\n",
    "        # find all dive with class `product-info`\n",
    "        products = div.find_all('div', class_='title-prod aaccc')\n",
    "        # get links of products\n",
    "        product_links = [product.find('a')['href'] for product in products]\n",
    "    except:\n",
    "        product_links = []\n",
    "    return product_links"
   ]
  },
  {
   "cell_type": "code",
   "execution_count": 30,
   "metadata": {},
   "outputs": [],
   "source": [
    "def get_product_info(product_link):\n",
    "    try:\n",
    "        req = requests.get(product_link)\n",
    "        soup = BeautifulSoup(req.text, 'html.parser')\n",
    "        # title-product as div\n",
    "        title = soup.find('div', class_='col-lg-7 col-md-7 col-sm-12 col-xs-12 right-detail').find('h1').text.strip()\n",
    "        # price product-price as span\n",
    "        price = soup.find('span', class_='ct-df').text.strip()\n",
    "        # get img link\n",
    "        div = soup.find('div', class_='owl-carousel owl-theme')\n",
    "        img_divs = div.find_all('div', class_='item')\n",
    "        img_links = [img_div.find('img')['data-src'] for img_div in img_divs]\n",
    "    except:\n",
    "        title = ''\n",
    "        price = ''\n",
    "        img_links = []\n",
    "\n",
    "    return title, price, img_links"
   ]
  },
  {
   "cell_type": "code",
   "execution_count": 31,
   "metadata": {},
   "outputs": [
    {
     "data": {
      "text/plain": [
       "['https://shop2banh.vn/goi-bao-duong-xe-tay-ga-nang-cao-15-buoc-2278.html',\n",
       " 'https://shop2banh.vn/goi-bao-duong-xe-so-xe-con-tay-nang-cao-15-buoc-2277.html',\n",
       " 'https://shop2banh.vn/goi-bao-duong-xe-tay-ga-tieu-chuan-11-buoc-2276.html',\n",
       " 'https://shop2banh.vn/goi-bao-duong-xe-may-so-xe-con-tay-tieu-chuan-11-buoc-2275.html',\n",
       " 'https://shop2banh.vn/nhot-motul-moto-20w50-1l-2274.html',\n",
       " 'https://shop2banh.vn/nhot-lap-hop-so-wolver-gl-5-80w90-2273.html',\n",
       " 'https://shop2banh.vn/nhot-mobil-1-0w40-533.html',\n",
       " 'https://shop2banh.vn/nhot-mobil-1-gold-5w30-531.html',\n",
       " 'https://shop2banh.vn/nhot-fuchs-silkolene-pro-4-10w40-xp-1064.html',\n",
       " 'https://shop2banh.vn/motul-300v-factory-line-10w40-1l-17.html',\n",
       " 'https://shop2banh.vn/motul-h-tech-100-4t-10w40-18.html',\n",
       " 'https://shop2banh.vn/motul-7100-10w50-4t-1l-354.html',\n",
       " 'https://shop2banh.vn/motul-scooter-power-le-5w40-08l-34.html',\n",
       " 'https://shop2banh.vn/nhot-wolver-racing-synthetic-10w40-1lit-492.html',\n",
       " 'https://shop2banh.vn/nhot-liqui-moly-4t-synth-10w40-street-race-865.html',\n",
       " 'https://shop2banh.vn/nhot-liqui-molygen-scooter-5w30-1973.html',\n",
       " 'https://shop2banh.vn/nhot-repsol-racing-10w40-1lit-508.html',\n",
       " 'https://shop2banh.vn/nhot-repsol-smarter-scooter-4t-5w-40-08lit-1965.html',\n",
       " 'https://shop2banh.vn/shell-advance-ultra-10w40-1l-28.html',\n",
       " 'https://shop2banh.vn/shell-advance-ultra-scooter-5w40-08l-693.html',\n",
       " 'https://shop2banh.vn/nhot-xe-mobil-super-moto-scooter-10w40-800ml-2268.html',\n",
       " 'https://shop2banh.vn/nhot-xe-mobil-super-moto-scooter-10w40-1l-2267.html',\n",
       " 'https://shop2banh.vn/nhot-xe-mobil-super-moto-scooter-10w30-08l-2266.html',\n",
       " 'https://shop2banh.vn/nhot-mobil-super-moto-10w40-800ml-2265.html',\n",
       " 'https://shop2banh.vn/nhot-mobil-super-moto-10w40-1l-2264.html',\n",
       " 'https://shop2banh.vn/nhot-lap-nhot-hop-so-xe-ga-mobil-super-moto-80w90-120ml-2263.html',\n",
       " 'https://shop2banh.vn/amsoil-10w40-performance-364.html',\n",
       " 'https://shop2banh.vn/nhot-motul-3100-gold-4t-10w40-1l-2065.html',\n",
       " 'https://shop2banh.vn/nhot-motul-3100-gold-4t-10w40-08l-2120.html',\n",
       " 'https://shop2banh.vn/nhot-fuchs-silkolene-scoot-sport-4-5w40-1065.html',\n",
       " 'https://shop2banh.vn/nhot-liqui-moly-4t-synth-5w40-motorbike-512.html',\n",
       " 'https://shop2banh.vn/nhot-chiet-le-repsol-smarter-synthetic-4t-10w40-100ml-1874.html',\n",
       " 'https://shop2banh.vn/nhot-ipone-katana-full-power-10w30-1837.html',\n",
       " 'https://shop2banh.vn/nhot-ipone-r4000rs-10w40-1833.html',\n",
       " 'https://shop2banh.vn/nhot-repsol-smarter-scooter-4t-5w-40-1l-1797.html',\n",
       " 'https://shop2banh.vn/nhot-repsol-smarter-synthetic-4t-10w-40-1l-1796.html',\n",
       " 'https://shop2banh.vn/shell-advance-xe-cong-nghe-scooter-10w40-1l-1718.html',\n",
       " 'https://shop2banh.vn/shell-advance-xe-cong-nghe-motorcycle-10w40-1l-1717.html',\n",
       " 'https://shop2banh.vn/chai-duong-bong-dan-ao-goracing-1459.html',\n",
       " 'https://shop2banh.vn/nhot-chiet-le-liqui-moly-scooter-race-10w40-100ml-1422.html',\n",
       " 'https://shop2banh.vn/nhot-repsol-mxr-platium-10w40-08l-1297.html',\n",
       " 'https://shop2banh.vn/nhot-repsol-mxr-platium-10w40-1l-1296.html',\n",
       " 'https://shop2banh.vn/nuoc-lam-mat-goracing-1201.html',\n",
       " 'https://shop2banh.vn/nhot-chiet-le-fuchs-silkolene-pro-4-10w40-xp-100ml-1112.html',\n",
       " 'https://shop2banh.vn/chai-xit-lam-sach-dan-nhua-nham-vo-xe-goracing-945.html',\n",
       " 'https://shop2banh.vn/chai-xit-ve-sinh-sen-goracing-857.html',\n",
       " 'https://shop2banh.vn/chai-xit-boi-tron-sen-goracing-848.html',\n",
       " 'https://shop2banh.vn/nuoc-lam-mat-liqui-moly-loai-khong-pha-804.html',\n",
       " 'https://shop2banh.vn/shell-advance-ultra-scooter-5w40-1l-692.html',\n",
       " 'https://shop2banh.vn/nhot-liqui-moly-4t-synth-10w50-511.html',\n",
       " 'https://shop2banh.vn/phu-gia-tang-toc-liqui-moly-speed-additive-484.html',\n",
       " 'https://shop2banh.vn/dau-suc-dong-co-liqui-moly-engine-flush-483.html',\n",
       " 'https://shop2banh.vn/shell-advance-4t-ax7-10w40-synthetic-based-08l-475.html',\n",
       " 'https://shop2banh.vn/shell-advance-4t-ax7-10w40-synthetic-based-1l-474.html',\n",
       " 'https://shop2banh.vn/amsoil-10w40-scooter-4-stroke-365.html',\n",
       " 'https://shop2banh.vn/amsoil-10w40-synthetic-metric-362.html',\n",
       " 'https://shop2banh.vn/liqui-moly-4t-additive-shooter-carbon-cleaner-356.html',\n",
       " 'https://shop2banh.vn/liqui-motorbike-10w40-formula-345.html',\n",
       " 'https://shop2banh.vn/liqui-moly-motorbike-scooter-10w40-293.html',\n",
       " 'https://shop2banh.vn/nhot-hop-so-liqui-moly-racing-scooter-gear-oil-59.html',\n",
       " 'https://shop2banh.vn/motul-scooter-gear-plus-38.html',\n",
       " 'https://shop2banh.vn/motul-scooter-expert-le-10w40-08l-37.html',\n",
       " 'https://shop2banh.vn/motul-scooter-expert-le-10w40-1l-35.html',\n",
       " 'https://shop2banh.vn/motul-scooter-power-le-5w40-1l-33.html',\n",
       " 'https://shop2banh.vn/shell-advance-ax7-scooter-10w40-08l-32.html',\n",
       " 'https://shop2banh.vn/shell-advance-ax7-scooter-10w40-1l-31.html',\n",
       " 'https://shop2banh.vn/mobil-1-racing-4t-10w40-21.html',\n",
       " 'https://shop2banh.vn/liqui-moly-motorbike-street-4t-10w40-1lit-291.html',\n",
       " 'https://shop2banh.vn/liqui-moly-scooter-race-10w40-817.html',\n",
       " 'https://shop2banh.vn/nhot-liqui-scooter-formula-10w40-1853.html',\n",
       " 'https://shop2banh.vn/nhot-chiet-le-motul-300v-factory-line-10w40-100ml-1088.html',\n",
       " 'https://shop2banh.vn/nhot-chiet-le-motul-h-tech-100-4t-10w40-100ml-1089.html',\n",
       " 'https://shop2banh.vn/nhot-chiet-le-liqui-moly-motorbike-street-4t-10w40-100ml-1091.html',\n",
       " 'https://shop2banh.vn/nhot-chiet-le-repsol-racing-10w40-100ml-1093.html',\n",
       " 'https://shop2banh.vn/nhot-chiet-le-wolver-racing-synthetic-10w40-100ml-1094.html',\n",
       " 'https://shop2banh.vn/nhot-chiet-le-motul-7100-10w50-4t-100ml-1095.html',\n",
       " 'https://shop2banh.vn/nhot-chiet-le-shell-advance-ultra-10w40-100ml-1096.html',\n",
       " 'https://shop2banh.vn/nhot-chiet-le-amsoil-10w40-performance-150ml-1097.html',\n",
       " 'https://shop2banh.vn/nhot-chiet-le-amsoil-10w40-synthetic-metric-150ml-1098.html',\n",
       " 'https://shop2banh.vn/ve-sinh-noi-xe-tay-ga-1362.html',\n",
       " 'https://shop2banh.vn/goi-bao-duong-xe-tay-ga-1363.html',\n",
       " 'https://shop2banh.vn/goi-bao-duong-xe-may-so-xe-con-tay-1364.html',\n",
       " 'https://shop2banh.vn/ve-sinh-hong-xang-va-kim-phun-xang-1365.html',\n",
       " 'https://shop2banh.vn/khac-phuc-loi-vo-nuoc-dong-ho-vario-1368.html',\n",
       " 'https://shop2banh.vn/ve-sinh-kim-phun-xang-dien-tu-fi-1373.html',\n",
       " 'https://shop2banh.vn/thay-chen-co-xe-may-honda-1375.html',\n",
       " 'https://shop2banh.vn/thay-chen-co-xe-may-yamaha-1376.html',\n",
       " 'https://shop2banh.vn/thay-chen-co-honda-sonic-150-1391.html',\n",
       " 'https://shop2banh.vn/ve-sinh-bo-thang-heo-dau-cho-xe-2-dia-2165.html',\n",
       " 'https://shop2banh.vn/ve-sinh-heo-dau-cho-xe-1-thang-dia-2166.html',\n",
       " 'https://shop2banh.vn/ve-sinh-lam-nhe-day-ga-day-con-2167.html',\n",
       " 'https://shop2banh.vn/goi-bao-duong-xe-tay-ga-nang-cao-2168.html',\n",
       " 'https://shop2banh.vn/goi-bao-duong-xe-so-xe-con-tay-nang-cao-2169.html',\n",
       " 'https://shop2banh.vn/chai-xit-sen-goracing-638.html',\n",
       " 'https://shop2banh.vn/suc-dong-co-wolver-motor-flush-adapter-80ml-2186.html',\n",
       " 'https://shop2banh.vn/suc-dong-co-motul-engine-clean-moto-200ml-2187.html',\n",
       " 'https://shop2banh.vn/thay-chen-co-xe-pcx-2188.html',\n",
       " 'https://shop2banh.vn/ve-sinh-phun-xang-motul-fuel-system-clean-moto-200ml-2189.html',\n",
       " 'https://shop2banh.vn/ve-sinh-hong-xang-cho-xe-honda-yamaha-2197.html',\n",
       " 'https://shop2banh.vn/cong-thay-loc-xang-xe-honda-fi-yamaha-fi-2198.html',\n",
       " 'https://shop2banh.vn/phu-gia-pha-nhot-liqui-moly-mo-s2-673.html',\n",
       " 'https://shop2banh.vn/nhot-liqui-molygen-scooter-10w40-1974.html',\n",
       " 'https://shop2banh.vn/nuoc-rua-xe-bao-ve-mau-son-sumo-743.html',\n",
       " 'https://shop2banh.vn/ve-sinh-nhong-sen-dia-1768.html']"
      ]
     },
     "execution_count": 31,
     "metadata": {},
     "output_type": "execute_result"
    }
   ],
   "source": [
    "page_no = 1\n",
    "product_links = []\n",
    "\n",
    "while True:\n",
    "    links = get_list_product_links(page_url(page_no))\n",
    "    if not links:\n",
    "        break\n",
    "    for link in links:\n",
    "        product_links.append(link)\n",
    "    page_no += 1\n",
    "product_links"
   ]
  },
  {
   "cell_type": "code",
   "execution_count": 32,
   "metadata": {},
   "outputs": [
    {
     "data": {
      "text/plain": [
       "104"
      ]
     },
     "execution_count": 32,
     "metadata": {},
     "output_type": "execute_result"
    }
   ],
   "source": [
    "len(product_links)"
   ]
  },
  {
   "cell_type": "code",
   "execution_count": 33,
   "metadata": {},
   "outputs": [
    {
     "name": "stderr",
     "output_type": "stream",
     "text": [
      "100%|██████████| 104/104 [01:04<00:00,  1.62it/s]\n"
     ]
    }
   ],
   "source": [
    "product_info = []\n",
    "for link in tqdm(product_links):\n",
    "    title, price, img_links = get_product_info(link)\n",
    "    product_info.append({'title': title, 'price': price, 'img_links': img_links})"
   ]
  },
  {
   "cell_type": "code",
   "execution_count": 34,
   "metadata": {},
   "outputs": [],
   "source": [
    "# write to file jsonlines\n",
    "with jsonlines.open('shop2banh.jsonl', mode='w') as writer:\n",
    "    writer.write_all(product_info)"
   ]
  },
  {
   "cell_type": "code",
   "execution_count": null,
   "metadata": {},
   "outputs": [],
   "source": []
  }
 ],
 "metadata": {
  "kernelspec": {
   "display_name": "nlp",
   "language": "python",
   "name": "python3"
  },
  "language_info": {
   "codemirror_mode": {
    "name": "ipython",
    "version": 3
   },
   "file_extension": ".py",
   "mimetype": "text/x-python",
   "name": "python",
   "nbconvert_exporter": "python",
   "pygments_lexer": "ipython3",
   "version": "3.12.2"
  }
 },
 "nbformat": 4,
 "nbformat_minor": 2
}
